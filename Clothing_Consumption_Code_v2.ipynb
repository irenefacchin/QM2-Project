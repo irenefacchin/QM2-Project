{
  "nbformat": 4,
  "nbformat_minor": 0,
  "metadata": {
    "colab": {
      "name": "Clothing Consumption Code v2.ipynb",
      "provenance": [],
      "include_colab_link": true
    },
    "kernelspec": {
      "name": "python3",
      "display_name": "Python 3"
    }
  },
  "cells": [
    {
      "cell_type": "markdown",
      "metadata": {
        "id": "view-in-github",
        "colab_type": "text"
      },
      "source": [
        "<a href=\"https://colab.research.google.com/github/irenefacchin/QM2-Project/blob/main/Clothing_Consumption_Code_v2.ipynb\" target=\"_parent\"><img src=\"https://colab.research.google.com/assets/colab-badge.svg\" alt=\"Open In Colab\"/></a>"
      ]
    },
    {
      "cell_type": "code",
      "metadata": {
        "id": "w_uWqJ6X7vdS"
      },
      "source": [
        "mc = \"estimated middle class population (billions)\""
      ],
      "execution_count": null,
      "outputs": []
    },
    {
      "cell_type": "code",
      "metadata": {
        "id": "MMcyTUuAOXAb"
      },
      "source": [
        "import matplotlib.pyplot as plt\n",
        "import pandas as pd\n",
        "import pylab"
      ],
      "execution_count": null,
      "outputs": []
    },
    {
      "cell_type": "code",
      "metadata": {
        "id": "4G196x1JYu2o",
        "colab": {
          "base_uri": "https://localhost:8080/"
        },
        "outputId": "70d3d5b5-968c-4cee-ebd4-4b829e14fd19"
      },
      "source": [
        "!mkdir data"
      ],
      "execution_count": null,
      "outputs": [
        {
          "output_type": "stream",
          "text": [
            "mkdir: cannot create directory ‘data’: File exists\n"
          ],
          "name": "stdout"
        }
      ]
    },
    {
      "cell_type": "code",
      "metadata": {
        "colab": {
          "base_uri": "https://localhost:8080/"
        },
        "id": "Q6lSlH_LXi_r",
        "outputId": "969cda4f-3fec-4c22-f06e-7a2bd8523a67"
      },
      "source": [
        "!curl https://raw.githubusercontent.com/irenefacchin/QM2-Project/main/Analysis/MC_pop_report.csv -o ./data/MC_population.csv"
      ],
      "execution_count": null,
      "outputs": [
        {
          "output_type": "stream",
          "text": [
            "  % Total    % Received % Xferd  Average Speed   Time    Time     Time  Current\n",
            "                                 Dload  Upload   Total   Spent    Left  Speed\n",
            "\r  0     0    0     0    0     0      0      0 --:--:-- --:--:-- --:--:--     0\r  0    14    0     0    0     0      0      0 --:--:-- --:--:-- --:--:--     0\r100    14  100    14    0     0     82      0 --:--:-- --:--:-- --:--:--    82\n"
          ],
          "name": "stdout"
        }
      ]
    },
    {
      "cell_type": "code",
      "metadata": {
        "id": "m_hbcueUYvvI",
        "colab": {
          "base_uri": "https://localhost:8080/",
          "height": 291
        },
        "outputId": "ba9e012e-ee70-4618-9dc6-0bfaf9bf1e8e"
      },
      "source": [
        "m_path = \"https://raw.githubusercontent.com/irenefacchin/QM2-Project/main/Analysis/Code/MC_pop_report.csv\"\n",
        "m = pd.read_csv(m_path)\n",
        "m.head(8)"
      ],
      "execution_count": null,
      "outputs": [
        {
          "output_type": "execute_result",
          "data": {
            "text/html": [
              "<div>\n",
              "<style scoped>\n",
              "    .dataframe tbody tr th:only-of-type {\n",
              "        vertical-align: middle;\n",
              "    }\n",
              "\n",
              "    .dataframe tbody tr th {\n",
              "        vertical-align: top;\n",
              "    }\n",
              "\n",
              "    .dataframe thead th {\n",
              "        text-align: right;\n",
              "    }\n",
              "</style>\n",
              "<table border=\"1\" class=\"dataframe\">\n",
              "  <thead>\n",
              "    <tr style=\"text-align: right;\">\n",
              "      <th></th>\n",
              "      <th>year</th>\n",
              "      <th>global middle class population (billions)</th>\n",
              "    </tr>\n",
              "  </thead>\n",
              "  <tbody>\n",
              "    <tr>\n",
              "      <th>0</th>\n",
              "      <td>1985</td>\n",
              "      <td>1.000</td>\n",
              "    </tr>\n",
              "    <tr>\n",
              "      <th>1</th>\n",
              "      <td>2006</td>\n",
              "      <td>2.000</td>\n",
              "    </tr>\n",
              "    <tr>\n",
              "      <th>2</th>\n",
              "      <td>2015</td>\n",
              "      <td>3.030</td>\n",
              "    </tr>\n",
              "    <tr>\n",
              "      <th>3</th>\n",
              "      <td>2016</td>\n",
              "      <td>3.200</td>\n",
              "    </tr>\n",
              "    <tr>\n",
              "      <th>4</th>\n",
              "      <td>2020</td>\n",
              "      <td>3.766</td>\n",
              "    </tr>\n",
              "    <tr>\n",
              "      <th>5</th>\n",
              "      <td>2022</td>\n",
              "      <td>4.000</td>\n",
              "    </tr>\n",
              "    <tr>\n",
              "      <th>6</th>\n",
              "      <td>2025</td>\n",
              "      <td>4.617</td>\n",
              "    </tr>\n",
              "    <tr>\n",
              "      <th>7</th>\n",
              "      <td>2030</td>\n",
              "      <td>5.412</td>\n",
              "    </tr>\n",
              "  </tbody>\n",
              "</table>\n",
              "</div>"
            ],
            "text/plain": [
              "   year  global middle class population (billions)\n",
              "0  1985                                      1.000\n",
              "1  2006                                      2.000\n",
              "2  2015                                      3.030\n",
              "3  2016                                      3.200\n",
              "4  2020                                      3.766\n",
              "5  2022                                      4.000\n",
              "6  2025                                      4.617\n",
              "7  2030                                      5.412"
            ]
          },
          "metadata": {
            "tags": []
          },
          "execution_count": 37
        }
      ]
    },
    {
      "cell_type": "code",
      "metadata": {
        "colab": {
          "base_uri": "https://localhost:8080/",
          "height": 294
        },
        "id": "7y09O_gNZFto",
        "outputId": "4dc21bda-57f4-4ba4-964c-0757613ee07b"
      },
      "source": [
        "m.plot(x='year', y='global middle class population (billions)', kind='scatter')"
      ],
      "execution_count": null,
      "outputs": [
        {
          "output_type": "execute_result",
          "data": {
            "text/plain": [
              "<matplotlib.axes._subplots.AxesSubplot at 0x7f30f55b4198>"
            ]
          },
          "metadata": {
            "tags": []
          },
          "execution_count": 38
        },
        {
          "output_type": "display_data",
          "data": {
            "image/png": "[encoded data removed]",
            "text/plain": [
              "<Figure size 432x288 with 1 Axes>"
            ]
          },
          "metadata": {
            "tags": [],
            "needs_background": "light"
          }
        }
      ]
    },
    {
      "cell_type": "code",
      "metadata": {
        "colab": {
          "base_uri": "https://localhost:8080/",
          "height": 296
        },
        "id": "5BuHyqokZsCq",
        "outputId": "c2b30697-d190-424e-f02c-cbb823564a61"
      },
      "source": [
        "#also plotted the scatterplot only using data from 2015-2030 \n",
        "#because there are few data points from 1985-2015, we decided removing the data from 1985 and 2006 to calculate the trendline might make the trendline more accurate\n",
        "m_path = \"https://raw.githubusercontent.com/irenefacchin/QM2-Project/main/Analysis/Code/MC_pop_report.csv\"\n",
        "m = pd.read_csv(m_path)\n",
        "m.head(8)\n",
        "later_2015 = m[m[\"year\"]>= 2015]\n",
        "later_2015.plot(x='year', y='global middle class population (billions)', kind='scatter')\n"
      ],
      "execution_count": null,
      "outputs": [
        {
          "output_type": "execute_result",
          "data": {
            "text/plain": [
              "<matplotlib.axes._subplots.AxesSubplot at 0x7f30f5779208>"
            ]
          },
          "metadata": {
            "tags": []
          },
          "execution_count": 39
        },
        {
          "output_type": "display_data",
          "data": {
            "image/png": "[encoded data removed]",
            "text/plain": [
              "<Figure size 432x288 with 1 Axes>"
            ]
          },
          "metadata": {
            "tags": [],
            "needs_background": "light"
          }
        }
      ]
    },
    {
      "cell_type": "code",
      "metadata": {
        "colab": {
          "base_uri": "https://localhost:8080/",
          "height": 545
        },
        "id": "FjWlrcS50hrS",
        "outputId": "397fe35c-5a12-4b6d-bc7e-94737c0b1df5"
      },
      "source": [
        "import numpy as np\n",
        "from statistics import mean\n",
        "\n",
        "m = pd.read_csv(m_path)\n",
        "x = m['year']\n",
        "y = m['global middle class population (billions)']\n",
        "plt.scatter(x,y)\n",
        "\n",
        "z = np.polyfit(x, y, 1)\n",
        "p = np.poly1d(z)\n",
        "plt.plot(x,p(x),\"r--\")\n",
        "\n",
        "plt.show()\n",
        "print(plt.plot(x,p(x),\"r--\"))\n",
        "\n",
        "#equation for best-fit line --> b = mean(y) - a * mean(x)\n",
        "def best_fit_slope(x,y):\n",
        "    a = (((mean(x)*mean(y)) - mean(x*y)) /\n",
        "         ((mean(x)*mean(x)) - mean(x*x)))\n",
        "    b = mean(y) - a* mean(x)\n",
        "    \n",
        "    rounded_a = round(a, 3)\n",
        "    rounded_b = round(b, 3)\n",
        "    \n",
        "    return rounded_a, rounded_b\n",
        "\n",
        "rounded_a, rounded_b = best_fit_slope(x,y)\n",
        "print('Best fit slope = ', end=\"\")\n",
        "print(rounded_a, 'x',rounded_b)\n",
        "\n"
      ],
      "execution_count": null,
      "outputs": [
        {
          "output_type": "display_data",
          "data": {
            "image/png": "[encoded data removed]",
            "text/plain": [
              "<Figure size 432x288 with 1 Axes>"
            ]
          },
          "metadata": {
            "tags": [],
            "needs_background": "light"
          }
        },
        {
          "output_type": "stream",
          "text": [
            "[<matplotlib.lines.Line2D object at 0x7f30f574a0f0>]\n",
            "Best fit slope = 0.096 x -190.333\n"
          ],
          "name": "stdout"
        },
        {
          "output_type": "display_data",
          "data": {
            "image/png": "[encoded data removed]",
            "text/plain": [
              "<Figure size 432x288 with 1 Axes>"
            ]
          },
          "metadata": {
            "tags": [],
            "needs_background": "light"
          }
        }
      ]
    },
    {
      "cell_type": "code",
      "metadata": {
        "id": "FhseGRHM0hn2",
        "colab": {
          "base_uri": "https://localhost:8080/",
          "height": 545
        },
        "outputId": "a6a4ff9a-9fbc-41ec-aa14-8279ccc3c418"
      },
      "source": [
        "import numpy as np\n",
        "\n",
        "later_2015 = m[m[\"year\"]>= 2015]\n",
        "x = later_2015['year']\n",
        "y = later_2015['global middle class population (billions)']\n",
        "plt.scatter(x,y)\n",
        "\n",
        "z = np.polyfit(x, y, 1)\n",
        "p = np.poly1d(z)\n",
        "plt.plot(x,p(x),\"r--\")\n",
        "\n",
        "plt.show()\n",
        "print(plt.plot(x,p(x),\"r--\"))\n",
        "\n",
        "#equation for best-fit line --> b = mean(y) - a * mean(x)\n",
        "def best_fit_slope(x,y):\n",
        "    a = (((mean(x)*mean(y)) - mean(x*y)) /\n",
        "         ((mean(x)*mean(x)) - mean(x*x)))\n",
        "    b = mean(y) - a* mean(x)\n",
        "\n",
        "    rounded_a = round(a, 3)\n",
        "    rounded_b = round(b, 3)\n",
        "    \n",
        "    return rounded_a, rounded_b\n",
        "\n",
        "rounded_a, rounded_b = best_fit_slope(x,y)\n",
        "print('Best fit slope = ', end=\"\")\n",
        "print(rounded_a, 'x',rounded_b)\n",
        "\n"
      ],
      "execution_count": null,
      "outputs": [
        {
          "output_type": "display_data",
          "data": {
            "image/png": "[encoded data removed]",
            "text/plain": [
              "<Figure size 432x288 with 1 Axes>"
            ]
          },
          "metadata": {
            "tags": [],
            "needs_background": "light"
          }
        },
        {
          "output_type": "stream",
          "text": [
            "[<matplotlib.lines.Line2D object at 0x7f30f5832358>]\n",
            "Best fit slope = 0.158 x -315.963\n"
          ],
          "name": "stdout"
        },
        {
          "output_type": "display_data",
          "data": {
            "image/png": "[encoded data removed]",
            "text/plain": [
              "<Figure size 432x288 with 1 Axes>"
            ]
          },
          "metadata": {
            "tags": [],
            "needs_background": "light"
          }
        }
      ]
    },
    {
      "cell_type": "code",
      "metadata": {
        "id": "NFDJee8O9tgX"
      },
      "source": [
        "cons = \"estimated middle class consumption per year (billions)\""
      ],
      "execution_count": null,
      "outputs": []
    },
    {
      "cell_type": "code",
      "metadata": {
        "id": "B_HK3roa9-Py"
      },
      "source": [
        "import matplotlib.pyplot as plt\n",
        "import pandas as pd\n",
        "import pylab"
      ],
      "execution_count": null,
      "outputs": []
    },
    {
      "cell_type": "code",
      "metadata": {
        "id": "r6n2pfcI9-UN",
        "colab": {
          "base_uri": "https://localhost:8080/"
        },
        "outputId": "f8d18690-a38f-4860-f33c-42cd10666199"
      },
      "source": [
        "!mkdir data"
      ],
      "execution_count": null,
      "outputs": [
        {
          "output_type": "stream",
          "text": [
            "mkdir: cannot create directory ‘data’: File exists\n"
          ],
          "name": "stdout"
        }
      ]
    },
    {
      "cell_type": "code",
      "metadata": {
        "colab": {
          "base_uri": "https://localhost:8080/"
        },
        "id": "SIpltULe9-ZC",
        "outputId": "4bdc58e3-2e34-4eab-e7ca-c90f17a2e158"
      },
      "source": [
        "!curl https://raw.githubusercontent.com/irenefacchin/QM2-Project/main/Analysis/Code/demand.csv"
      ],
      "execution_count": null,
      "outputs": [
        {
          "output_type": "stream",
          "text": [
            "Date (yyyy/mm),Middle class population (billions),Demand for clothing\r\n",
            "2015/01,3.025,91.376\r\n",
            "2015/06,3.078,92.977\r\n",
            "2015/10,3.132,94.608\r\n",
            "2016/01,3.181,96.088\r\n",
            "2016/06,3.234,97.689\r\n",
            "2016/10,3.289,99.351\r\n",
            "2016/12,3.337,100.801\r\n",
            "2017/05,3.39,102.402\r\n",
            "2017/10,3.445,104.063\r\n",
            "2017/12,3.496,105.604\r\n",
            "2018/05,3.548,107.174\r\n",
            "2018/09,3.6,108.745\r\n",
            "2018/12,3.652,110.316\r\n",
            "2019/05,3.704,111.887\r\n",
            "2019/09,3.756,113.457\r\n",
            "2020/01,3.81,115.089\r\n",
            "2020/05,3.861,116.629\r\n",
            "2020/08,3.913,118.2\r\n",
            "2020/12,3.966,119.801\r\n",
            "2021/05,4.018,121.372\r\n",
            "2021/08,4.071,122.973\r\n",
            "2021/12,4.123,124.543\r\n",
            "2022/05,4.175,126.114\r\n",
            "2022/09,4.225,127.625\r\n",
            "2022/12,4.28,129.286\r\n",
            "2023/05,4.333,130.887\r\n",
            "2023/09,4.384,132.427\r\n",
            "2024/01,4.435,133.968\r\n",
            "2024/05,4.489,135.599\r\n",
            "2024/08,4.541,137.17\r\n",
            "2024/12,4.591,138.68\r\n",
            "2025/05,4.646,140.342\r\n",
            "2025/08,4.7,141.973\r\n",
            "2025/12,4.747,143.393\r\n",
            "2026/05,4.802,145.054\r\n",
            "2026/09,4.856,146.685\r\n",
            "2026/12,4.904,148.135\r\n",
            "2027/04,4.958,149.766\r\n",
            "2027/09,5.011,151.367\r\n",
            "2027/12,5.06,152.847\r\n",
            "2028/04,5.114,154.479\r\n",
            "2028/08,5.168,156.11\r\n",
            "2028/11,5.219,157.65\r\n",
            "2029/04,5.27,159.191\r\n",
            "2029/08,5.325,160.852\r\n",
            "2029/12,5.369,162.181\r\n"
          ],
          "name": "stdout"
        }
      ]
    },
    {
      "cell_type": "code",
      "metadata": {
        "colab": {
          "base_uri": "https://localhost:8080/",
          "height": 991
        },
        "id": "he2aaZod_Dad",
        "outputId": "7604705a-5215-4236-fe14-923206e87102"
      },
      "source": [
        "Demand = \"https://raw.githubusercontent.com/irenefacchin/QM2-Project/main/Analysis/Code/demand.csv\"\n",
        "demand = pd.read_csv(Demand)\n",
        "demand.head(31)"
      ],
      "execution_count": null,
      "outputs": [
        {
          "output_type": "execute_result",
          "data": {
            "text/html": [
              "<div>\n",
              "<style scoped>\n",
              "    .dataframe tbody tr th:only-of-type {\n",
              "        vertical-align: middle;\n",
              "    }\n",
              "\n",
              "    .dataframe tbody tr th {\n",
              "        vertical-align: top;\n",
              "    }\n",
              "\n",
              "    .dataframe thead th {\n",
              "        text-align: right;\n",
              "    }\n",
              "</style>\n",
              "<table border=\"1\" class=\"dataframe\">\n",
              "  <thead>\n",
              "    <tr style=\"text-align: right;\">\n",
              "      <th></th>\n",
              "      <th>Date (yyyy/mm)</th>\n",
              "      <th>Middle class population (billions)</th>\n",
              "      <th>Demand for clothing</th>\n",
              "    </tr>\n",
              "  </thead>\n",
              "  <tbody>\n",
              "    <tr>\n",
              "      <th>0</th>\n",
              "      <td>2015/01</td>\n",
              "      <td>3.025</td>\n",
              "      <td>91.376</td>\n",
              "    </tr>\n",
              "    <tr>\n",
              "      <th>1</th>\n",
              "      <td>2015/06</td>\n",
              "      <td>3.078</td>\n",
              "      <td>92.977</td>\n",
              "    </tr>\n",
              "    <tr>\n",
              "      <th>2</th>\n",
              "      <td>2015/10</td>\n",
              "      <td>3.132</td>\n",
              "      <td>94.608</td>\n",
              "    </tr>\n",
              "    <tr>\n",
              "      <th>3</th>\n",
              "      <td>2016/01</td>\n",
              "      <td>3.181</td>\n",
              "      <td>96.088</td>\n",
              "    </tr>\n",
              "    <tr>\n",
              "      <th>4</th>\n",
              "      <td>2016/06</td>\n",
              "      <td>3.234</td>\n",
              "      <td>97.689</td>\n",
              "    </tr>\n",
              "    <tr>\n",
              "      <th>5</th>\n",
              "      <td>2016/10</td>\n",
              "      <td>3.289</td>\n",
              "      <td>99.351</td>\n",
              "    </tr>\n",
              "    <tr>\n",
              "      <th>6</th>\n",
              "      <td>2016/12</td>\n",
              "      <td>3.337</td>\n",
              "      <td>100.801</td>\n",
              "    </tr>\n",
              "    <tr>\n",
              "      <th>7</th>\n",
              "      <td>2017/05</td>\n",
              "      <td>3.390</td>\n",
              "      <td>102.402</td>\n",
              "    </tr>\n",
              "    <tr>\n",
              "      <th>8</th>\n",
              "      <td>2017/10</td>\n",
              "      <td>3.445</td>\n",
              "      <td>104.063</td>\n",
              "    </tr>\n",
              "    <tr>\n",
              "      <th>9</th>\n",
              "      <td>2017/12</td>\n",
              "      <td>3.496</td>\n",
              "      <td>105.604</td>\n",
              "    </tr>\n",
              "    <tr>\n",
              "      <th>10</th>\n",
              "      <td>2018/05</td>\n",
              "      <td>3.548</td>\n",
              "      <td>107.174</td>\n",
              "    </tr>\n",
              "    <tr>\n",
              "      <th>11</th>\n",
              "      <td>2018/09</td>\n",
              "      <td>3.600</td>\n",
              "      <td>108.745</td>\n",
              "    </tr>\n",
              "    <tr>\n",
              "      <th>12</th>\n",
              "      <td>2018/12</td>\n",
              "      <td>3.652</td>\n",
              "      <td>110.316</td>\n",
              "    </tr>\n",
              "    <tr>\n",
              "      <th>13</th>\n",
              "      <td>2019/05</td>\n",
              "      <td>3.704</td>\n",
              "      <td>111.887</td>\n",
              "    </tr>\n",
              "    <tr>\n",
              "      <th>14</th>\n",
              "      <td>2019/09</td>\n",
              "      <td>3.756</td>\n",
              "      <td>113.457</td>\n",
              "    </tr>\n",
              "    <tr>\n",
              "      <th>15</th>\n",
              "      <td>2020/01</td>\n",
              "      <td>3.810</td>\n",
              "      <td>115.089</td>\n",
              "    </tr>\n",
              "    <tr>\n",
              "      <th>16</th>\n",
              "      <td>2020/05</td>\n",
              "      <td>3.861</td>\n",
              "      <td>116.629</td>\n",
              "    </tr>\n",
              "    <tr>\n",
              "      <th>17</th>\n",
              "      <td>2020/08</td>\n",
              "      <td>3.913</td>\n",
              "      <td>118.200</td>\n",
              "    </tr>\n",
              "    <tr>\n",
              "      <th>18</th>\n",
              "      <td>2020/12</td>\n",
              "      <td>3.966</td>\n",
              "      <td>119.801</td>\n",
              "    </tr>\n",
              "    <tr>\n",
              "      <th>19</th>\n",
              "      <td>2021/05</td>\n",
              "      <td>4.018</td>\n",
              "      <td>121.372</td>\n",
              "    </tr>\n",
              "    <tr>\n",
              "      <th>20</th>\n",
              "      <td>2021/08</td>\n",
              "      <td>4.071</td>\n",
              "      <td>122.973</td>\n",
              "    </tr>\n",
              "    <tr>\n",
              "      <th>21</th>\n",
              "      <td>2021/12</td>\n",
              "      <td>4.123</td>\n",
              "      <td>124.543</td>\n",
              "    </tr>\n",
              "    <tr>\n",
              "      <th>22</th>\n",
              "      <td>2022/05</td>\n",
              "      <td>4.175</td>\n",
              "      <td>126.114</td>\n",
              "    </tr>\n",
              "    <tr>\n",
              "      <th>23</th>\n",
              "      <td>2022/09</td>\n",
              "      <td>4.225</td>\n",
              "      <td>127.625</td>\n",
              "    </tr>\n",
              "    <tr>\n",
              "      <th>24</th>\n",
              "      <td>2022/12</td>\n",
              "      <td>4.280</td>\n",
              "      <td>129.286</td>\n",
              "    </tr>\n",
              "    <tr>\n",
              "      <th>25</th>\n",
              "      <td>2023/05</td>\n",
              "      <td>4.333</td>\n",
              "      <td>130.887</td>\n",
              "    </tr>\n",
              "    <tr>\n",
              "      <th>26</th>\n",
              "      <td>2023/09</td>\n",
              "      <td>4.384</td>\n",
              "      <td>132.427</td>\n",
              "    </tr>\n",
              "    <tr>\n",
              "      <th>27</th>\n",
              "      <td>2024/01</td>\n",
              "      <td>4.435</td>\n",
              "      <td>133.968</td>\n",
              "    </tr>\n",
              "    <tr>\n",
              "      <th>28</th>\n",
              "      <td>2024/05</td>\n",
              "      <td>4.489</td>\n",
              "      <td>135.599</td>\n",
              "    </tr>\n",
              "    <tr>\n",
              "      <th>29</th>\n",
              "      <td>2024/08</td>\n",
              "      <td>4.541</td>\n",
              "      <td>137.170</td>\n",
              "    </tr>\n",
              "    <tr>\n",
              "      <th>30</th>\n",
              "      <td>2024/12</td>\n",
              "      <td>4.591</td>\n",
              "      <td>138.680</td>\n",
              "    </tr>\n",
              "  </tbody>\n",
              "</table>\n",
              "</div>"
            ],
            "text/plain": [
              "   Date (yyyy/mm)  Middle class population (billions)  Demand for clothing\n",
              "0         2015/01                               3.025               91.376\n",
              "1         2015/06                               3.078               92.977\n",
              "2         2015/10                               3.132               94.608\n",
              "3         2016/01                               3.181               96.088\n",
              "4         2016/06                               3.234               97.689\n",
              "5         2016/10                               3.289               99.351\n",
              "6         2016/12                               3.337              100.801\n",
              "7         2017/05                               3.390              102.402\n",
              "8         2017/10                               3.445              104.063\n",
              "9         2017/12                               3.496              105.604\n",
              "10        2018/05                               3.548              107.174\n",
              "11        2018/09                               3.600              108.745\n",
              "12        2018/12                               3.652              110.316\n",
              "13        2019/05                               3.704              111.887\n",
              "14        2019/09                               3.756              113.457\n",
              "15        2020/01                               3.810              115.089\n",
              "16        2020/05                               3.861              116.629\n",
              "17        2020/08                               3.913              118.200\n",
              "18        2020/12                               3.966              119.801\n",
              "19        2021/05                               4.018              121.372\n",
              "20        2021/08                               4.071              122.973\n",
              "21        2021/12                               4.123              124.543\n",
              "22        2022/05                               4.175              126.114\n",
              "23        2022/09                               4.225              127.625\n",
              "24        2022/12                               4.280              129.286\n",
              "25        2023/05                               4.333              130.887\n",
              "26        2023/09                               4.384              132.427\n",
              "27        2024/01                               4.435              133.968\n",
              "28        2024/05                               4.489              135.599\n",
              "29        2024/08                               4.541              137.170\n",
              "30        2024/12                               4.591              138.680"
            ]
          },
          "metadata": {
            "tags": []
          },
          "execution_count": 45
        }
      ]
    },
    {
      "cell_type": "code",
      "metadata": {
        "colab": {
          "base_uri": "https://localhost:8080/",
          "height": 294
        },
        "id": "rLkvnNkY_Ddv",
        "outputId": "5d3ba059-5569-4542-8d71-5b795930e449"
      },
      "source": [
        "demand.plot(x='Date (yyyy/mm)', y='Demand for clothing', kind='scatter')"
      ],
      "execution_count": null,
      "outputs": [
        {
          "output_type": "execute_result",
          "data": {
            "text/plain": [
              "<matplotlib.axes._subplots.AxesSubplot at 0x7f30f556f828>"
            ]
          },
          "metadata": {
            "tags": []
          },
          "execution_count": 46
        },
        {
          "output_type": "display_data",
          "data": {
            "image/png": "[encoded data removed]",
            "text/plain": [
              "<Figure size 432x288 with 1 Axes>"
            ]
          },
          "metadata": {
            "tags": [],
            "needs_background": "light"
          }
        }
      ]
    },
    {
      "cell_type": "code",
      "metadata": {
        "id": "f-OKmTm1_Dgi",
        "colab": {
          "base_uri": "https://localhost:8080/",
          "height": 619
        },
        "outputId": "cdd6bc0a-069b-45fc-b9c1-4eb417b76f5f"
      },
      "source": [
        "import numpy as np\n",
        "from statistics import mean\n",
        "\n",
        "cons = pd.read_csv(Demand)\n",
        "x = cons['Date (yyyy/mm)']\n",
        "y = cons['Demand for clothing']\n",
        "plt.scatter(x,y)\n",
        "\n",
        "z = np.polyfit(x, y, 1)\n",
        "p = np.poly1d(z)\n",
        "plt.plot(x,p(x),\"r--\")\n",
        "\n",
        "plt.show()\n",
        "print(plt.plot(x,p(x),\"r--\"))\n",
        "\n",
        "#equation for best-fit line --> b = mean(y) - a * mean(x)\n",
        "def best_fit_slope(x,y):\n",
        "    a = (((mean(x)*mean(y)) - mean(x*y)) /\n",
        "         ((mean(x)*mean(x)) - mean(x*x)))\n",
        "    b = mean(y) - a* mean(x)\n",
        "    \n",
        "    rounded_a = round(a, 3)\n",
        "    rounded_b = round(b, 3)\n",
        "    \n",
        "    return rounded_a, rounded_b\n",
        "\n",
        "rounded_a, rounded_b = best_fit_slope(x,y)\n",
        "print('Best fit slope = ', end=\"\")\n",
        "print(rounded_a, 'x', rounded_b)"
      ],
      "execution_count": null,
      "outputs": [
        {
          "output_type": "error",
          "ename": "TypeError",
          "evalue": "ignored",
          "traceback": [
            "\u001b[0;31m---------------------------------------------------------------------------\u001b[0m",
            "\u001b[0;31mTypeError\u001b[0m                                 Traceback (most recent call last)",
            "\u001b[0;32m<ipython-input-50-33ff83e8a117>\u001b[0m in \u001b[0;36m<module>\u001b[0;34m()\u001b[0m\n\u001b[1;32m      7\u001b[0m \u001b[0mplt\u001b[0m\u001b[0;34m.\u001b[0m\u001b[0mscatter\u001b[0m\u001b[0;34m(\u001b[0m\u001b[0mx\u001b[0m\u001b[0;34m,\u001b[0m\u001b[0my\u001b[0m\u001b[0;34m)\u001b[0m\u001b[0;34m\u001b[0m\u001b[0;34m\u001b[0m\u001b[0m\n\u001b[1;32m      8\u001b[0m \u001b[0;34m\u001b[0m\u001b[0m\n\u001b[0;32m----> 9\u001b[0;31m \u001b[0mz\u001b[0m \u001b[0;34m=\u001b[0m \u001b[0mnp\u001b[0m\u001b[0;34m.\u001b[0m\u001b[0mpolyfit\u001b[0m\u001b[0;34m(\u001b[0m\u001b[0mx\u001b[0m\u001b[0;34m,\u001b[0m \u001b[0my\u001b[0m\u001b[0;34m,\u001b[0m \u001b[0;36m1\u001b[0m\u001b[0;34m)\u001b[0m\u001b[0;34m\u001b[0m\u001b[0;34m\u001b[0m\u001b[0m\n\u001b[0m\u001b[1;32m     10\u001b[0m \u001b[0mp\u001b[0m \u001b[0;34m=\u001b[0m \u001b[0mnp\u001b[0m\u001b[0;34m.\u001b[0m\u001b[0mpoly1d\u001b[0m\u001b[0;34m(\u001b[0m\u001b[0mz\u001b[0m\u001b[0;34m)\u001b[0m\u001b[0;34m\u001b[0m\u001b[0;34m\u001b[0m\u001b[0m\n\u001b[1;32m     11\u001b[0m \u001b[0mplt\u001b[0m\u001b[0;34m.\u001b[0m\u001b[0mplot\u001b[0m\u001b[0;34m(\u001b[0m\u001b[0mx\u001b[0m\u001b[0;34m,\u001b[0m\u001b[0mp\u001b[0m\u001b[0;34m(\u001b[0m\u001b[0mx\u001b[0m\u001b[0;34m)\u001b[0m\u001b[0;34m,\u001b[0m\u001b[0;34m\"r--\"\u001b[0m\u001b[0;34m)\u001b[0m\u001b[0;34m\u001b[0m\u001b[0;34m\u001b[0m\u001b[0m\n",
            "\u001b[0;32m<__array_function__ internals>\u001b[0m in \u001b[0;36mpolyfit\u001b[0;34m(*args, **kwargs)\u001b[0m\n",
            "\u001b[0;32m/usr/local/lib/python3.6/dist-packages/numpy/lib/polynomial.py\u001b[0m in \u001b[0;36mpolyfit\u001b[0;34m(x, y, deg, rcond, full, w, cov)\u001b[0m\n\u001b[1;32m    588\u001b[0m     \"\"\"\n\u001b[1;32m    589\u001b[0m     \u001b[0morder\u001b[0m \u001b[0;34m=\u001b[0m \u001b[0mint\u001b[0m\u001b[0;34m(\u001b[0m\u001b[0mdeg\u001b[0m\u001b[0;34m)\u001b[0m \u001b[0;34m+\u001b[0m \u001b[0;36m1\u001b[0m\u001b[0;34m\u001b[0m\u001b[0;34m\u001b[0m\u001b[0m\n\u001b[0;32m--> 590\u001b[0;31m     \u001b[0mx\u001b[0m \u001b[0;34m=\u001b[0m \u001b[0mNX\u001b[0m\u001b[0;34m.\u001b[0m\u001b[0masarray\u001b[0m\u001b[0;34m(\u001b[0m\u001b[0mx\u001b[0m\u001b[0;34m)\u001b[0m \u001b[0;34m+\u001b[0m \u001b[0;36m0.0\u001b[0m\u001b[0;34m\u001b[0m\u001b[0;34m\u001b[0m\u001b[0m\n\u001b[0m\u001b[1;32m    591\u001b[0m     \u001b[0my\u001b[0m \u001b[0;34m=\u001b[0m \u001b[0mNX\u001b[0m\u001b[0;34m.\u001b[0m\u001b[0masarray\u001b[0m\u001b[0;34m(\u001b[0m\u001b[0my\u001b[0m\u001b[0;34m)\u001b[0m \u001b[0;34m+\u001b[0m \u001b[0;36m0.0\u001b[0m\u001b[0;34m\u001b[0m\u001b[0;34m\u001b[0m\u001b[0m\n\u001b[1;32m    592\u001b[0m \u001b[0;34m\u001b[0m\u001b[0m\n",
            "\u001b[0;31mTypeError\u001b[0m: must be str, not float"
          ]
        },
        {
          "output_type": "display_data",
          "data": {
            "image/png": "[encoded data removed]",
            "text/plain": [
              "<Figure size 432x288 with 1 Axes>"
            ]
          },
          "metadata": {
            "tags": [],
            "needs_background": "light"
          }
        }
      ]
    }
  ]
}
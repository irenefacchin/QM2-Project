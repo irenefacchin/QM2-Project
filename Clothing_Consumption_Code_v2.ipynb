{
  "nbformat": 4,
  "nbformat_minor": 0,
  "metadata": {
    "colab": {
      "name": "Clothing Consumption Code v2.ipynb",
      "provenance": [],
      "include_colab_link": true
    },
    "kernelspec": {
      "name": "python3",
      "display_name": "Python 3"
    }
  },
  "cells": [
    {
      "cell_type": "markdown",
      "metadata": {
        "id": "view-in-github",
        "colab_type": "text"
      },
      "source": [
        "<a href=\"https://colab.research.google.com/github/irenefacchin/QM2-Project/blob/main/Clothing_Consumption_Code_v2.ipynb\" target=\"_parent\"><img src=\"https://colab.research.google.com/assets/colab-badge.svg\" alt=\"Open In Colab\"/></a>"
      ]
    },
    {
      "cell_type": "code",
      "metadata": {
        "id": "w_uWqJ6X7vdS"
      },
      "source": [
        "mc = \"estimated middle class population (billions)\""
      ],
      "execution_count": 1,
      "outputs": []
    },
    {
      "cell_type": "code",
      "metadata": {
        "id": "MMcyTUuAOXAb"
      },
      "source": [
        "import matplotlib.pyplot as plt\n",
        "import pandas as pd\n",
        "import pylab"
      ],
      "execution_count": 2,
      "outputs": []
    },
    {
      "cell_type": "code",
      "metadata": {
        "id": "4G196x1JYu2o"
      },
      "source": [
        "!mkdir data"
      ],
      "execution_count": 3,
      "outputs": []
    },
    {
      "cell_type": "code",
      "metadata": {
        "colab": {
          "base_uri": "https://localhost:8080/"
        },
        "id": "Q6lSlH_LXi_r",
        "outputId": "a3eb69a7-16f6-460a-9dd4-a8a677e213ed"
      },
      "source": [
        "!curl https://raw.githubusercontent.com/irenefacchin/QM2-Project/main/Analysis/MC_pop_report.csv -o ./data/MC_population.csv"
      ],
      "execution_count": 4,
      "outputs": [
        {
          "output_type": "stream",
          "text": [
            "  % Total    % Received % Xferd  Average Speed   Time    Time     Time  Current\n",
            "                                 Dload  Upload   Total   Spent    Left  Speed\n",
            "\r  0     0    0     0    0     0      0      0 --:--:-- --:--:-- --:--:--     0\r100    14  100    14    0     0     76      0 --:--:-- --:--:-- --:--:--    76\n"
          ],
          "name": "stdout"
        }
      ]
    },
    {
      "cell_type": "code",
      "metadata": {
        "id": "m_hbcueUYvvI",
        "colab": {
          "base_uri": "https://localhost:8080/",
          "height": 291
        },
        "outputId": "7d0938ab-5d82-47ec-ffd9-369c469f52b6"
      },
      "source": [
        "m_path = \"https://raw.githubusercontent.com/irenefacchin/QM2-Project/main/Analysis/Code/MC_pop_report.csv\"\n",
        "m = pd.read_csv(m_path)\n",
        "m.head(8)"
      ],
      "execution_count": 5,
      "outputs": [
        {
          "output_type": "execute_result",
          "data": {
            "text/html": [
              "<div>\n",
              "<style scoped>\n",
              "    .dataframe tbody tr th:only-of-type {\n",
              "        vertical-align: middle;\n",
              "    }\n",
              "\n",
              "    .dataframe tbody tr th {\n",
              "        vertical-align: top;\n",
              "    }\n",
              "\n",
              "    .dataframe thead th {\n",
              "        text-align: right;\n",
              "    }\n",
              "</style>\n",
              "<table border=\"1\" class=\"dataframe\">\n",
              "  <thead>\n",
              "    <tr style=\"text-align: right;\">\n",
              "      <th></th>\n",
              "      <th>year</th>\n",
              "      <th>global middle class population (billions)</th>\n",
              "    </tr>\n",
              "  </thead>\n",
              "  <tbody>\n",
              "    <tr>\n",
              "      <th>0</th>\n",
              "      <td>1985</td>\n",
              "      <td>1.000</td>\n",
              "    </tr>\n",
              "    <tr>\n",
              "      <th>1</th>\n",
              "      <td>2006</td>\n",
              "      <td>2.000</td>\n",
              "    </tr>\n",
              "    <tr>\n",
              "      <th>2</th>\n",
              "      <td>2015</td>\n",
              "      <td>3.030</td>\n",
              "    </tr>\n",
              "    <tr>\n",
              "      <th>3</th>\n",
              "      <td>2016</td>\n",
              "      <td>3.200</td>\n",
              "    </tr>\n",
              "    <tr>\n",
              "      <th>4</th>\n",
              "      <td>2020</td>\n",
              "      <td>3.766</td>\n",
              "    </tr>\n",
              "    <tr>\n",
              "      <th>5</th>\n",
              "      <td>2022</td>\n",
              "      <td>4.000</td>\n",
              "    </tr>\n",
              "    <tr>\n",
              "      <th>6</th>\n",
              "      <td>2025</td>\n",
              "      <td>4.617</td>\n",
              "    </tr>\n",
              "    <tr>\n",
              "      <th>7</th>\n",
              "      <td>2030</td>\n",
              "      <td>5.412</td>\n",
              "    </tr>\n",
              "  </tbody>\n",
              "</table>\n",
              "</div>"
            ],
            "text/plain": [
              "   year  global middle class population (billions)\n",
              "0  1985                                      1.000\n",
              "1  2006                                      2.000\n",
              "2  2015                                      3.030\n",
              "3  2016                                      3.200\n",
              "4  2020                                      3.766\n",
              "5  2022                                      4.000\n",
              "6  2025                                      4.617\n",
              "7  2030                                      5.412"
            ]
          },
          "metadata": {
            "tags": []
          },
          "execution_count": 5
        }
      ]
    },
    {
      "cell_type": "code",
      "metadata": {
        "colab": {
          "base_uri": "https://localhost:8080/",
          "height": 294
        },
        "id": "7y09O_gNZFto",
        "outputId": "aa80c675-a749-435f-8763-a162d1784120"
      },
      "source": [
        "m.plot(x='year', y='global middle class population (billions)', kind='scatter')"
      ],
      "execution_count": 6,
      "outputs": [
        {
          "output_type": "execute_result",
          "data": {
            "text/plain": [
              "<matplotlib.axes._subplots.AxesSubplot at 0x7fb8962c5588>"
            ]
          },
          "metadata": {
            "tags": []
          },
          "execution_count": 6
        },
        {
          "output_type": "display_data",
          "data": {
            "image/png": "[encoded data removed]",
            "text/plain": [
              "<Figure size 432x288 with 1 Axes>"
            ]
          },
          "metadata": {
            "tags": [],
            "needs_background": "light"
          }
        }
      ]
    },
    {
      "cell_type": "code",
      "metadata": {
        "colab": {
          "base_uri": "https://localhost:8080/",
          "height": 296
        },
        "id": "5BuHyqokZsCq",
        "outputId": "00ca0531-9cc4-4c8f-b5a2-d09202843603"
      },
      "source": [
        "#also plotted the scatterplot only using data from 2015-2030 \n",
        "#because there are few data points from 1985-2015, we decided removing the data from 1985 and 2006 to calculate the trendline might make the trendline more accurate\n",
        "m_path = \"https://raw.githubusercontent.com/irenefacchin/QM2-Project/main/Analysis/Code/MC_pop_report.csv\"\n",
        "m = pd.read_csv(m_path)\n",
        "m.head(8)\n",
        "later_2015 = m[m[\"year\"]>= 2015]\n",
        "later_2015.plot(x='year', y='global middle class population (billions)', kind='scatter')\n"
      ],
      "execution_count": 7,
      "outputs": [
        {
          "output_type": "execute_result",
          "data": {
            "text/plain": [
              "<matplotlib.axes._subplots.AxesSubplot at 0x7fb895b43550>"
            ]
          },
          "metadata": {
            "tags": []
          },
          "execution_count": 7
        },
        {
          "output_type": "display_data",
          "data": {
            "image/png": "[encoded data removed]",
            "text/plain": [
              "<Figure size 432x288 with 1 Axes>"
            ]
          },
          "metadata": {
            "tags": [],
            "needs_background": "light"
          }
        }
      ]
    },
    {
      "cell_type": "code",
      "metadata": {
        "colab": {
          "base_uri": "https://localhost:8080/",
          "height": 545
        },
        "id": "FjWlrcS50hrS",
        "outputId": "7c1eef02-80a5-4b26-eb19-c31fd1adcf10"
      },
      "source": [
        "import numpy as np\n",
        "from statistics import mean\n",
        "\n",
        "m = pd.read_csv(m_path)\n",
        "x = m['year']\n",
        "y = m['global middle class population (billions)']\n",
        "plt.scatter(x,y)\n",
        "\n",
        "z = np.polyfit(x, y, 1)\n",
        "p = np.poly1d(z)\n",
        "plt.plot(x,p(x),\"r--\")\n",
        "\n",
        "plt.show()\n",
        "print(plt.plot(x,p(x),\"r--\"))\n",
        "\n",
        "#equation for best-fit line --> b = mean(y) - a * mean(x)\n",
        "def best_fit_slope(x,y):\n",
        "    a = (((mean(x)*mean(y)) - mean(x*y)) /\n",
        "         ((mean(x)*mean(x)) - mean(x*x)))\n",
        "    b = mean(y) - a* mean(x)\n",
        "    \n",
        "    rounded_a = round(a, 3)\n",
        "    rounded_b = round(b, 3)\n",
        "    \n",
        "    return rounded_a, rounded_b\n",
        "\n",
        "rounded_a, rounded_b = best_fit_slope(x,y)\n",
        "print('Best fit slope = ', end=\"\")\n",
        "print(rounded_a, 'x',rounded_b)\n",
        "\n"
      ],
      "execution_count": 8,
      "outputs": [
        {
          "output_type": "display_data",
          "data": {
            "image/png": "[encoded data removed]",
            "text/plain": [
              "<Figure size 432x288 with 1 Axes>"
            ]
          },
          "metadata": {
            "tags": [],
            "needs_background": "light"
          }
        },
        {
          "output_type": "stream",
          "text": [
            "[<matplotlib.lines.Line2D object at 0x7fb894a5e2e8>]\n",
            "Best fit slope = 0.096 x -190.333\n"
          ],
          "name": "stdout"
        },
        {
          "output_type": "display_data",
          "data": {
            "image/png": "[encoded data removed]",
            "text/plain": [
              "<Figure size 432x288 with 1 Axes>"
            ]
          },
          "metadata": {
            "tags": [],
            "needs_background": "light"
          }
        }
      ]
    },
    {
      "cell_type": "code",
      "metadata": {
        "id": "FhseGRHM0hn2",
        "colab": {
          "base_uri": "https://localhost:8080/",
          "height": 545
        },
        "outputId": "fbec553c-0a88-4640-891a-d42e4f92707d"
      },
      "source": [
        "import numpy as np\n",
        "\n",
        "later_2015 = m[m[\"year\"]>= 2015]\n",
        "x = later_2015['year']\n",
        "y = later_2015['global middle class population (billions)']\n",
        "plt.scatter(x,y)\n",
        "\n",
        "z = np.polyfit(x, y, 1)\n",
        "p = np.poly1d(z)\n",
        "plt.plot(x,p(x),\"r--\")\n",
        "\n",
        "plt.show()\n",
        "print(plt.plot(x,p(x),\"r--\"))\n",
        "\n",
        "#equation for best-fit line --> b = mean(y) - a * mean(x)\n",
        "def best_fit_slope(x,y):\n",
        "    a = (((mean(x)*mean(y)) - mean(x*y)) /\n",
        "         ((mean(x)*mean(x)) - mean(x*x)))\n",
        "    b = mean(y) - a* mean(x)\n",
        "\n",
        "    rounded_a = round(a, 3)\n",
        "    rounded_b = round(b, 3)\n",
        "    \n",
        "    return rounded_a, rounded_b\n",
        "\n",
        "rounded_a, rounded_b = best_fit_slope(x,y)\n",
        "print('Best fit slope = ', end=\"\")\n",
        "print(rounded_a, 'x',rounded_b)\n",
        "\n"
      ],
      "execution_count": 9,
      "outputs": [
        {
          "output_type": "display_data",
          "data": {
            "image/png": "[encoded data removed]",
            "text/plain": [
              "<Figure size 432x288 with 1 Axes>"
            ]
          },
          "metadata": {
            "tags": [],
            "needs_background": "light"
          }
        },
        {
          "output_type": "stream",
          "text": [
            "[<matplotlib.lines.Line2D object at 0x7fb8949a6160>]\n",
            "Best fit slope = 0.158 x -315.963\n"
          ],
          "name": "stdout"
        },
        {
          "output_type": "display_data",
          "data": {
            "image/png": "[encoded data removed]",
            "text/plain": [
              "<Figure size 432x288 with 1 Axes>"
            ]
          },
          "metadata": {
            "tags": [],
            "needs_background": "light"
          }
        }
      ]
    },
    {
      "cell_type": "code",
      "metadata": {
        "id": "NFDJee8O9tgX"
      },
      "source": [
        "cons = \"estimated middle class consumption per year (billions)\""
      ],
      "execution_count": 10,
      "outputs": []
    },
    {
      "cell_type": "code",
      "metadata": {
        "id": "B_HK3roa9-Py"
      },
      "source": [
        "import matplotlib.pyplot as plt\n",
        "import pandas as pd\n",
        "import pylab"
      ],
      "execution_count": 11,
      "outputs": []
    },
    {
      "cell_type": "code",
      "metadata": {
        "id": "r6n2pfcI9-UN",
        "colab": {
          "base_uri": "https://localhost:8080/"
        },
        "outputId": "acc45f8c-75c4-4dae-c051-103ed1c49896"
      },
      "source": [
        "!mkdir data"
      ],
      "execution_count": 12,
      "outputs": [
        {
          "output_type": "stream",
          "text": [
            "mkdir: cannot create directory ‘data’: File exists\n"
          ],
          "name": "stdout"
        }
      ]
    },
    {
      "cell_type": "code",
      "metadata": {
        "colab": {
          "base_uri": "https://localhost:8080/"
        },
        "id": "SIpltULe9-ZC",
        "outputId": "2a3cb996-1722-43c8-d890-526f86b3689c"
      },
      "source": [
        "!curl https://raw.githubusercontent.com/irenefacchin/QM2-Project/main/Analysis/Code/demand(correct).csv"
      ],
      "execution_count": 14,
      "outputs": [
        {
          "output_type": "stream",
          "text": [
            "/bin/bash: -c: line 0: syntax error near unexpected token `('\n",
            "/bin/bash: -c: line 0: `curl https://raw.githubusercontent.com/irenefacchin/QM2-Project/main/Analysis/Code/demand(correct).csv'\n"
          ],
          "name": "stdout"
        }
      ]
    },
    {
      "cell_type": "code",
      "metadata": {
        "colab": {
          "base_uri": "https://localhost:8080/",
          "height": 521
        },
        "id": "he2aaZod_Dad",
        "outputId": "2009898e-394a-4748-c4e8-0b4ea38ab53c"
      },
      "source": [
        "Demand = \"https://raw.githubusercontent.com/irenefacchin/QM2-Project/main/Analysis/Code/demand(correct).csv\"\n",
        "demand = pd.read_csv(Demand)\n",
        "demand.head(31)"
      ],
      "execution_count": 15,
      "outputs": [
        {
          "output_type": "execute_result",
          "data": {
            "text/html": [
              "<div>\n",
              "<style scoped>\n",
              "    .dataframe tbody tr th:only-of-type {\n",
              "        vertical-align: middle;\n",
              "    }\n",
              "\n",
              "    .dataframe tbody tr th {\n",
              "        vertical-align: top;\n",
              "    }\n",
              "\n",
              "    .dataframe thead th {\n",
              "        text-align: right;\n",
              "    }\n",
              "</style>\n",
              "<table border=\"1\" class=\"dataframe\">\n",
              "  <thead>\n",
              "    <tr style=\"text-align: right;\">\n",
              "      <th></th>\n",
              "      <th>Year</th>\n",
              "      <th>Global middle class population (billions)</th>\n",
              "      <th>Demand for Clothing (billions)</th>\n",
              "      <th>Demand for t-shirts (2/3 demend for clothing)</th>\n",
              "      <th>Demand for jeans (1/3 demand for clothing)</th>\n",
              "    </tr>\n",
              "  </thead>\n",
              "  <tbody>\n",
              "    <tr>\n",
              "      <th>0</th>\n",
              "      <td>2015</td>\n",
              "      <td>3.132</td>\n",
              "      <td>90.049</td>\n",
              "      <td>60.033</td>\n",
              "      <td>30.016</td>\n",
              "    </tr>\n",
              "    <tr>\n",
              "      <th>1</th>\n",
              "      <td>2016</td>\n",
              "      <td>3.337</td>\n",
              "      <td>95.943</td>\n",
              "      <td>63.962</td>\n",
              "      <td>31.981</td>\n",
              "    </tr>\n",
              "    <tr>\n",
              "      <th>2</th>\n",
              "      <td>2017</td>\n",
              "      <td>3.496</td>\n",
              "      <td>100.515</td>\n",
              "      <td>67.010</td>\n",
              "      <td>33.505</td>\n",
              "    </tr>\n",
              "    <tr>\n",
              "      <th>3</th>\n",
              "      <td>2018</td>\n",
              "      <td>3.652</td>\n",
              "      <td>105.000</td>\n",
              "      <td>70.000</td>\n",
              "      <td>35.000</td>\n",
              "    </tr>\n",
              "    <tr>\n",
              "      <th>4</th>\n",
              "      <td>2019</td>\n",
              "      <td>3.756</td>\n",
              "      <td>107.990</td>\n",
              "      <td>71.993</td>\n",
              "      <td>35.997</td>\n",
              "    </tr>\n",
              "    <tr>\n",
              "      <th>5</th>\n",
              "      <td>2020</td>\n",
              "      <td>3.966</td>\n",
              "      <td>114.028</td>\n",
              "      <td>76.019</td>\n",
              "      <td>38.009</td>\n",
              "    </tr>\n",
              "    <tr>\n",
              "      <th>6</th>\n",
              "      <td>2021</td>\n",
              "      <td>4.123</td>\n",
              "      <td>118.542</td>\n",
              "      <td>79.028</td>\n",
              "      <td>39.514</td>\n",
              "    </tr>\n",
              "    <tr>\n",
              "      <th>7</th>\n",
              "      <td>2022</td>\n",
              "      <td>4.280</td>\n",
              "      <td>123.056</td>\n",
              "      <td>82.037</td>\n",
              "      <td>41.019</td>\n",
              "    </tr>\n",
              "    <tr>\n",
              "      <th>8</th>\n",
              "      <td>2023</td>\n",
              "      <td>4.384</td>\n",
              "      <td>126.046</td>\n",
              "      <td>84.031</td>\n",
              "      <td>42.015</td>\n",
              "    </tr>\n",
              "    <tr>\n",
              "      <th>9</th>\n",
              "      <td>2024</td>\n",
              "      <td>4.591</td>\n",
              "      <td>131.998</td>\n",
              "      <td>87.999</td>\n",
              "      <td>43.999</td>\n",
              "    </tr>\n",
              "    <tr>\n",
              "      <th>10</th>\n",
              "      <td>2025</td>\n",
              "      <td>4.747</td>\n",
              "      <td>136.483</td>\n",
              "      <td>90.989</td>\n",
              "      <td>45.494</td>\n",
              "    </tr>\n",
              "    <tr>\n",
              "      <th>11</th>\n",
              "      <td>2026</td>\n",
              "      <td>4.904</td>\n",
              "      <td>140.997</td>\n",
              "      <td>93.998</td>\n",
              "      <td>46.999</td>\n",
              "    </tr>\n",
              "    <tr>\n",
              "      <th>12</th>\n",
              "      <td>2027</td>\n",
              "      <td>5.060</td>\n",
              "      <td>145.482</td>\n",
              "      <td>96.988</td>\n",
              "      <td>48.494</td>\n",
              "    </tr>\n",
              "    <tr>\n",
              "      <th>13</th>\n",
              "      <td>2028</td>\n",
              "      <td>5.219</td>\n",
              "      <td>150.053</td>\n",
              "      <td>100.035</td>\n",
              "      <td>50.018</td>\n",
              "    </tr>\n",
              "    <tr>\n",
              "      <th>14</th>\n",
              "      <td>2029</td>\n",
              "      <td>5.369</td>\n",
              "      <td>154.366</td>\n",
              "      <td>102.911</td>\n",
              "      <td>51.455</td>\n",
              "    </tr>\n",
              "  </tbody>\n",
              "</table>\n",
              "</div>"
            ],
            "text/plain": [
              "    Year  ...  Demand for jeans (1/3 demand for clothing)\n",
              "0   2015  ...                                      30.016\n",
              "1   2016  ...                                      31.981\n",
              "2   2017  ...                                      33.505\n",
              "3   2018  ...                                      35.000\n",
              "4   2019  ...                                      35.997\n",
              "5   2020  ...                                      38.009\n",
              "6   2021  ...                                      39.514\n",
              "7   2022  ...                                      41.019\n",
              "8   2023  ...                                      42.015\n",
              "9   2024  ...                                      43.999\n",
              "10  2025  ...                                      45.494\n",
              "11  2026  ...                                      46.999\n",
              "12  2027  ...                                      48.494\n",
              "13  2028  ...                                      50.018\n",
              "14  2029  ...                                      51.455\n",
              "\n",
              "[15 rows x 5 columns]"
            ]
          },
          "metadata": {
            "tags": []
          },
          "execution_count": 15
        }
      ]
    },
    {
      "cell_type": "code",
      "metadata": {
        "colab": {
          "base_uri": "https://localhost:8080/",
          "height": 294
        },
        "id": "rLkvnNkY_Ddv",
        "outputId": "edfef12b-545b-44d4-98dc-a15ee0878948"
      },
      "source": [
        "demand.plot(x='Year', y='Demand for Clothing (billions)', kind='scatter')"
      ],
      "execution_count": 19,
      "outputs": [
        {
          "output_type": "execute_result",
          "data": {
            "text/plain": [
              "<matplotlib.axes._subplots.AxesSubplot at 0x7fb894662e80>"
            ]
          },
          "metadata": {
            "tags": []
          },
          "execution_count": 19
        },
        {
          "output_type": "display_data",
          "data": {
            "image/png": "[encoded data removed]",
            "text/plain": [
              "<Figure size 432x288 with 1 Axes>"
            ]
          },
          "metadata": {
            "tags": [],
            "needs_background": "light"
          }
        }
      ]
    },
    {
      "cell_type": "code",
      "metadata": {
        "id": "f-OKmTm1_Dgi",
        "colab": {
          "base_uri": "https://localhost:8080/",
          "height": 557
        },
        "outputId": "38e1d6b0-500a-4de2-e1ff-d1ddc7b57123"
      },
      "source": [
        "import numpy as np\n",
        "from statistics import mean\n",
        "\n",
        "cons = pd.read_csv(Demand)\n",
        "x = cons['Year']\n",
        "y = cons['Demand for Clothing (billions)']\n",
        "plt.scatter(x,y)\n",
        "\n",
        "z = np.polyfit(x, y, 1)\n",
        "p = np.poly1d(z)\n",
        "plt.plot(x,p(x),\"r--\")\n",
        "\n",
        "plt.xlabel('Year') \n",
        "plt.ylabel('Demand for clothing (billions of garments)')   \n",
        "\n",
        "plt.show()\n",
        "print(plt.plot(x,p(x),\"r--\"))\n",
        "\n",
        "#equation for best-fit line --> b = mean(y) - a * mean(x)\n",
        "def best_fit_slope(x,y):\n",
        "    a = (((mean(x)*mean(y)) - mean(x*y)) /\n",
        "         ((mean(x)*mean(x)) - mean(x*x)))\n",
        "    b = mean(y) - a* mean(x)\n",
        "    \n",
        "    rounded_a = round(a, 3)\n",
        "    rounded_b = round(b, 3)\n",
        "    \n",
        "    return rounded_a, rounded_b\n",
        "\n",
        "rounded_a, rounded_b = best_fit_slope(x,y)\n",
        "print('Best fit slope = ', end=\"\")\n",
        "print(rounded_a, 'x', rounded_b)"
      ],
      "execution_count": 22,
      "outputs": [
        {
          "output_type": "display_data",
          "data": {
            "image/png": "[encoded data removed]",
            "text/plain": [
              "<Figure size 432x288 with 1 Axes>"
            ]
          },
          "metadata": {
            "tags": [],
            "needs_background": "light"
          }
        },
        {
          "output_type": "stream",
          "text": [
            "[<matplotlib.lines.Line2D object at 0x7fb8945348d0>]\n",
            "Best fit slope = 4.545 x -9067.467\n"
          ],
          "name": "stdout"
        },
        {
          "output_type": "display_data",
          "data": {
            "image/png": "[encoded data removed]",
            "text/plain": [
              "<Figure size 432x288 with 1 Axes>"
            ]
          },
          "metadata": {
            "tags": [],
            "needs_background": "light"
          }
        }
      ]
    }
  ]
}